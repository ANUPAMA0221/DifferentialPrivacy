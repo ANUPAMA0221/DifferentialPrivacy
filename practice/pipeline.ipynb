{
 "cells": [
  {
   "cell_type": "markdown",
   "metadata": {},
   "source": [
    "# Training differentially private pipelines"
   ]
  },
  {
   "cell_type": "markdown",
   "metadata": {},
   "source": [
    "We start by importing the required libraries and modules and collecting the data that we need from the [Adult dataset](https://archive.ics.uci.edu/ml/datasets/adult)."
   ]
  },
  {
   "cell_type": "code",
   "execution_count": 1,
   "metadata": {},
   "outputs": [
    {
     "name": "stdout",
     "output_type": "stream",
     "text": [
      "Requirement already satisfied: diffprivlib in c:\\users\\anupama\\anaconda3\\lib\\site-packages (0.5.1)\n",
      "Requirement already satisfied: setuptools>=49.0.0 in c:\\users\\anupama\\anaconda3\\lib\\site-packages (from diffprivlib) (52.0.0.post20210125)\n",
      "Requirement already satisfied: scikit-learn>=0.23.0 in c:\\users\\anupama\\anaconda3\\lib\\site-packages (from diffprivlib) (0.24.1)\n",
      "Requirement already satisfied: numpy>=1.19.0 in c:\\users\\anupama\\anaconda3\\lib\\site-packages (from diffprivlib) (1.20.1)\n",
      "Requirement already satisfied: scipy>=1.5.0 in c:\\users\\anupama\\anaconda3\\lib\\site-packages (from diffprivlib) (1.6.2)\n",
      "Requirement already satisfied: joblib>=0.16.0 in c:\\users\\anupama\\anaconda3\\lib\\site-packages (from diffprivlib) (1.0.1)\n",
      "Requirement already satisfied: threadpoolctl>=2.0.0 in c:\\users\\anupama\\anaconda3\\lib\\site-packages (from scikit-learn>=0.23.0->diffprivlib) (2.1.0)\n"
     ]
    }
   ],
   "source": [
    "! pip install diffprivlib"
   ]
  },
  {
   "cell_type": "code",
   "execution_count": 2,
   "metadata": {},
   "outputs": [],
   "source": [
    "import numpy as np\n",
    "import sklearn as sk\n",
    "from sklearn.pipeline import Pipeline\n",
    "\n",
    "from diffprivlib import models"
   ]
  },
  {
   "cell_type": "code",
   "execution_count": 3,
   "metadata": {},
   "outputs": [],
   "source": [
    "X_train = np.loadtxt(\"https://archive.ics.uci.edu/ml/machine-learning-databases/adult/adult.data\",\n",
    "                        usecols=(0, 4, 10, 11, 12), delimiter=\", \")\n",
    "y_train = np.loadtxt(\"https://archive.ics.uci.edu/ml/machine-learning-databases/adult/adult.data\",\n",
    "                        usecols=14, dtype=str, delimiter=\", \")"
   ]
  },
  {
   "cell_type": "code",
   "execution_count": 4,
   "metadata": {},
   "outputs": [],
   "source": [
    "X_test = np.loadtxt(\"https://archive.ics.uci.edu/ml/machine-learning-databases/adult/adult.test\",\n",
    "                        usecols=(0, 4, 10, 11, 12), delimiter=\", \", skiprows=1)\n",
    "\n",
    "y_test = np.loadtxt(\"https://archive.ics.uci.edu/ml/machine-learning-databases/adult/adult.test\",\n",
    "                        usecols=14, dtype=str, delimiter=\", \", skiprows=1)\n",
    "# Must trim trailing period \".\" from label\n",
    "y_test = np.array([a[:-1] for a in y_test])"
   ]
  },
  {
   "cell_type": "markdown",
   "metadata": {},
   "source": [
    "## Pipeline with no privacy"
   ]
  },
  {
   "cell_type": "markdown",
   "metadata": {},
   "source": [
    "To begin, let's train and test a scikit-learn pipeline without any privacy guarantees. We first use `StandardScaler` to normalise the data to zero mean and unit variance, then use `PCA` to reduce the dimensionality of the system, and then use `LogisticRegression` as a classifier."
   ]
  },
  {
   "cell_type": "code",
   "execution_count": 5,
   "metadata": {},
   "outputs": [],
   "source": [
    "pipe = Pipeline([\n",
    "    ('scaler', sk.preprocessing.StandardScaler()),\n",
    "    ('pca', sk.decomposition.PCA(2)),\n",
    "    ('lr', sk.linear_model.LogisticRegression(solver=\"lbfgs\"))\n",
    "])"
   ]
  },
  {
   "cell_type": "markdown",
   "metadata": {},
   "source": [
    "We now train the model, and save the test accuracy as a baseline."
   ]
  },
  {
   "cell_type": "code",
   "execution_count": 6,
   "metadata": {},
   "outputs": [
    {
     "name": "stdout",
     "output_type": "stream",
     "text": [
      "Non-private test accuracy: 80.30%\n"
     ]
    }
   ],
   "source": [
    "pipe.fit(X_train, y_train)\n",
    "baseline = pipe.score(X_test, y_test)\n",
    "print(\"Non-private test accuracy: %.2f%%\" % (baseline * 100))"
   ]
  },
  {
   "cell_type": "markdown",
   "metadata": {},
   "source": [
    "## Differentially private pipeline"
   ]
  },
  {
   "cell_type": "markdown",
   "metadata": {},
   "source": [
    "Using `diffprivlib`, we can now train a differentially private pipeline. We use the same components as in our pipeline above, but with each component satisfying differential privacy. We decide on the `bounds` and `data_norm` parameters by trial and error for this example. In practice, these hyperparameters should be chosen using non-sensitive data, i.e. from metadata provided by the data owner."
   ]
  },
  {
   "cell_type": "code",
   "execution_count": 7,
   "metadata": {
    "scrolled": true
   },
   "outputs": [
    {
     "name": "stdout",
     "output_type": "stream",
     "text": [
      "Differentially private pipeline accuracy (epsilon=3): 74.15%\n"
     ]
    }
   ],
   "source": [
    "dp_pipe = Pipeline([\n",
    "    ('scaler', models.StandardScaler(bounds=([17, 1, 0, 0, 1], [90, 160, 10000, 4356, 99]))),\n",
    "    ('pca', models.PCA(2, data_norm=5, centered=True)),\n",
    "    ('lr', models.LogisticRegression(data_norm=5))\n",
    "])\n",
    "\n",
    "dp_pipe.fit(X_train, y_train)\n",
    "print(\"Differentially private pipeline accuracy (epsilon=3): %.2f%%\" % (dp_pipe.score(X_test, y_test) * 100))"
   ]
  },
  {
   "cell_type": "markdown",
   "metadata": {},
   "source": [
    "Let's now train the pipeline across a range of epsilons."
   ]
  },
  {
   "cell_type": "code",
   "execution_count": 8,
   "metadata": {},
   "outputs": [],
   "source": [
    "epsilons = np.logspace(-3, 0, 500)\n",
    "pipe_accuracy = []\n",
    "\n",
    "for epsilon in epsilons:\n",
    "    _eps = epsilon / 3\n",
    "    dp_pipe.set_params(scaler__epsilon=_eps, pca__epsilon=_eps, lr__epsilon=_eps)\n",
    "    \n",
    "    dp_pipe.fit(X_train, y_train)\n",
    "    pipe_accuracy.append(dp_pipe.score(X_test, y_test))"
   ]
  },
  {
   "cell_type": "markdown",
   "metadata": {},
   "source": [
    "Let's save the results so they can be used later."
   ]
  },
  {
   "cell_type": "code",
   "execution_count": 9,
   "metadata": {},
   "outputs": [],
   "source": [
    "import pickle\n",
    "\n",
    "pickle.dump((epsilons, baseline, pipe_accuracy), open(\"pipeline_accuracy_500.p\", \"wb\" ) )"
   ]
  },
  {
   "cell_type": "markdown",
   "metadata": {},
   "source": [
    "## Results"
   ]
  },
  {
   "cell_type": "markdown",
   "metadata": {},
   "source": [
    "We can now plot the results, showing that non-private accuracy is matched from approximately `epsilon = 0.1`."
   ]
  },
  {
   "cell_type": "code",
   "execution_count": 10,
   "metadata": {},
   "outputs": [
    {
     "data": {
      "image/png": "[encoded data removed]",
      "text/plain": [
       "<Figure size 432x288 with 1 Axes>"
      ]
     },
     "metadata": {
      "needs_background": "light"
     },
     "output_type": "display_data"
    }
   ],
   "source": [
    "import matplotlib.pyplot as plt\n",
    "import pickle\n",
    "\n",
    "epsilons, baseline, pipe_accuracy = pickle.load(open(\"pipeline_accuracy_500.p\", \"rb\"))\n",
    "\n",
    "plt.semilogx(epsilons, pipe_accuracy, label=\"Differentially private pipeline\", zorder=10)\n",
    "plt.plot(epsilons, np.ones_like(epsilons) * baseline, dashes=[2,2], label=\"Non-private pipeline\", zorder=5)\n",
    "plt.title(\"Differentially private pipeline accuracy\")\n",
    "plt.xlabel(\"epsilon\")\n",
    "plt.ylabel(\"Accuracy\")\n",
    "plt.ylim(0, 1)\n",
    "plt.xlim(epsilons[0], epsilons[-1])\n",
    "plt.legend(loc=4)\n",
    "plt.show()"
   ]
  }
 ],
 "metadata": {
  "kernelspec": {
   "display_name": "Python 3",
   "language": "python",
   "name": "python3"
  },
  "language_info": {
   "codemirror_mode": {
    "name": "ipython",
    "version": 3
   },
   "file_extension": ".py",
   "mimetype": "text/x-python",
   "name": "python",
   "nbconvert_exporter": "python",
   "pygments_lexer": "ipython3",
   "version": "3.8.8"
  }
 },
 "nbformat": 4,
 "nbformat_minor": 2
}
