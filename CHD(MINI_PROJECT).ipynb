{
 "cells": [
  {
   "cell_type": "code",
   "execution_count": 1,
   "metadata": {},
   "outputs": [],
   "source": [
    "import numpy as np\n",
    "import pandas as pd\n",
    "import matplotlib.pyplot as plt\n",
    "import seaborn as sns"
   ]
  },
  {
   "cell_type": "code",
   "execution_count": 2,
   "metadata": {},
   "outputs": [],
   "source": [
    "heart_df=pd.read_csv(\"framingham.csv\")"
   ]
  },
  {
   "cell_type": "code",
   "execution_count": 3,
   "metadata": {},
   "outputs": [
    {
     "data": {
      "text/plain": [
       "(4238, 16)"
      ]
     },
     "execution_count": 3,
     "metadata": {},
     "output_type": "execute_result"
    }
   ],
   "source": [
    "heart_df.shape"
   ]
  },
  {
   "cell_type": "code",
   "execution_count": 4,
   "metadata": {},
   "outputs": [
    {
     "data": {
      "text/html": [
       "<div>\n",
       "<style scoped>\n",
       "    .dataframe tbody tr th:only-of-type {\n",
       "        vertical-align: middle;\n",
       "    }\n",
       "\n",
       "    .dataframe tbody tr th {\n",
       "        vertical-align: top;\n",
       "    }\n",
       "\n",
       "    .dataframe thead th {\n",
       "        text-align: right;\n",
       "    }\n",
       "</style>\n",
       "<table border=\"1\" class=\"dataframe\">\n",
       "  <thead>\n",
       "    <tr style=\"text-align: right;\">\n",
       "      <th></th>\n",
       "      <th>male</th>\n",
       "      <th>age</th>\n",
       "      <th>education</th>\n",
       "      <th>currentSmoker</th>\n",
       "      <th>cigsPerDay</th>\n",
       "      <th>BPMeds</th>\n",
       "      <th>prevalentStroke</th>\n",
       "      <th>prevalentHyp</th>\n",
       "      <th>diabetes</th>\n",
       "      <th>totChol</th>\n",
       "      <th>sysBP</th>\n",
       "      <th>diaBP</th>\n",
       "      <th>BMI</th>\n",
       "      <th>heartRate</th>\n",
       "      <th>glucose</th>\n",
       "      <th>TenYearCHD</th>\n",
       "    </tr>\n",
       "  </thead>\n",
       "  <tbody>\n",
       "    <tr>\n",
       "      <th>0</th>\n",
       "      <td>1</td>\n",
       "      <td>39</td>\n",
       "      <td>4.0</td>\n",
       "      <td>0</td>\n",
       "      <td>0.0</td>\n",
       "      <td>0.0</td>\n",
       "      <td>0</td>\n",
       "      <td>0</td>\n",
       "      <td>0</td>\n",
       "      <td>195.0</td>\n",
       "      <td>106.0</td>\n",
       "      <td>70.0</td>\n",
       "      <td>26.97</td>\n",
       "      <td>80.0</td>\n",
       "      <td>77.0</td>\n",
       "      <td>0</td>\n",
       "    </tr>\n",
       "    <tr>\n",
       "      <th>1</th>\n",
       "      <td>0</td>\n",
       "      <td>46</td>\n",
       "      <td>2.0</td>\n",
       "      <td>0</td>\n",
       "      <td>0.0</td>\n",
       "      <td>0.0</td>\n",
       "      <td>0</td>\n",
       "      <td>0</td>\n",
       "      <td>0</td>\n",
       "      <td>250.0</td>\n",
       "      <td>121.0</td>\n",
       "      <td>81.0</td>\n",
       "      <td>28.73</td>\n",
       "      <td>95.0</td>\n",
       "      <td>76.0</td>\n",
       "      <td>0</td>\n",
       "    </tr>\n",
       "    <tr>\n",
       "      <th>2</th>\n",
       "      <td>1</td>\n",
       "      <td>48</td>\n",
       "      <td>1.0</td>\n",
       "      <td>1</td>\n",
       "      <td>20.0</td>\n",
       "      <td>0.0</td>\n",
       "      <td>0</td>\n",
       "      <td>0</td>\n",
       "      <td>0</td>\n",
       "      <td>245.0</td>\n",
       "      <td>127.5</td>\n",
       "      <td>80.0</td>\n",
       "      <td>25.34</td>\n",
       "      <td>75.0</td>\n",
       "      <td>70.0</td>\n",
       "      <td>0</td>\n",
       "    </tr>\n",
       "    <tr>\n",
       "      <th>3</th>\n",
       "      <td>0</td>\n",
       "      <td>61</td>\n",
       "      <td>3.0</td>\n",
       "      <td>1</td>\n",
       "      <td>30.0</td>\n",
       "      <td>0.0</td>\n",
       "      <td>0</td>\n",
       "      <td>1</td>\n",
       "      <td>0</td>\n",
       "      <td>225.0</td>\n",
       "      <td>150.0</td>\n",
       "      <td>95.0</td>\n",
       "      <td>28.58</td>\n",
       "      <td>65.0</td>\n",
       "      <td>103.0</td>\n",
       "      <td>1</td>\n",
       "    </tr>\n",
       "    <tr>\n",
       "      <th>4</th>\n",
       "      <td>0</td>\n",
       "      <td>46</td>\n",
       "      <td>3.0</td>\n",
       "      <td>1</td>\n",
       "      <td>23.0</td>\n",
       "      <td>0.0</td>\n",
       "      <td>0</td>\n",
       "      <td>0</td>\n",
       "      <td>0</td>\n",
       "      <td>285.0</td>\n",
       "      <td>130.0</td>\n",
       "      <td>84.0</td>\n",
       "      <td>23.10</td>\n",
       "      <td>85.0</td>\n",
       "      <td>85.0</td>\n",
       "      <td>0</td>\n",
       "    </tr>\n",
       "  </tbody>\n",
       "</table>\n",
       "</div>"
      ],
      "text/plain": [
       "   male  age  education  currentSmoker  cigsPerDay  BPMeds  prevalentStroke  \\\n",
       "0     1   39        4.0              0         0.0     0.0                0   \n",
       "1     0   46        2.0              0         0.0     0.0                0   \n",
       "2     1   48        1.0              1        20.0     0.0                0   \n",
       "3     0   61        3.0              1        30.0     0.0                0   \n",
       "4     0   46        3.0              1        23.0     0.0                0   \n",
       "\n",
       "   prevalentHyp  diabetes  totChol  sysBP  diaBP    BMI  heartRate  glucose  \\\n",
       "0             0         0    195.0  106.0   70.0  26.97       80.0     77.0   \n",
       "1             0         0    250.0  121.0   81.0  28.73       95.0     76.0   \n",
       "2             0         0    245.0  127.5   80.0  25.34       75.0     70.0   \n",
       "3             1         0    225.0  150.0   95.0  28.58       65.0    103.0   \n",
       "4             0         0    285.0  130.0   84.0  23.10       85.0     85.0   \n",
       "\n",
       "   TenYearCHD  \n",
       "0           0  \n",
       "1           0  \n",
       "2           0  \n",
       "3           1  \n",
       "4           0  "
      ]
     },
     "execution_count": 4,
     "metadata": {},
     "output_type": "execute_result"
    }
   ],
   "source": [
    "heart_df.head()"
   ]
  },
  {
   "cell_type": "code",
   "execution_count": 5,
   "metadata": {},
   "outputs": [
    {
     "name": "stdout",
     "output_type": "stream",
     "text": [
      "<class 'pandas.core.frame.DataFrame'>\n",
      "RangeIndex: 4238 entries, 0 to 4237\n",
      "Data columns (total 16 columns):\n",
      " #   Column           Non-Null Count  Dtype  \n",
      "---  ------           --------------  -----  \n",
      " 0   male             4238 non-null   int64  \n",
      " 1   age              4238 non-null   int64  \n",
      " 2   education        4133 non-null   float64\n",
      " 3   currentSmoker    4238 non-null   int64  \n",
      " 4   cigsPerDay       4209 non-null   float64\n",
      " 5   BPMeds           4185 non-null   float64\n",
      " 6   prevalentStroke  4238 non-null   int64  \n",
      " 7   prevalentHyp     4238 non-null   int64  \n",
      " 8   diabetes         4238 non-null   int64  \n",
      " 9   totChol          4188 non-null   float64\n",
      " 10  sysBP            4238 non-null   float64\n",
      " 11  diaBP            4238 non-null   float64\n",
      " 12  BMI              4219 non-null   float64\n",
      " 13  heartRate        4237 non-null   float64\n",
      " 14  glucose          3850 non-null   float64\n",
      " 15  TenYearCHD       4238 non-null   int64  \n",
      "dtypes: float64(9), int64(7)\n",
      "memory usage: 529.9 KB\n"
     ]
    }
   ],
   "source": [
    "heart_df.info()"
   ]
  },
  {
   "cell_type": "code",
   "execution_count": 6,
   "metadata": {},
   "outputs": [
    {
     "data": {
      "text/html": [
       "<div>\n",
       "<style scoped>\n",
       "    .dataframe tbody tr th:only-of-type {\n",
       "        vertical-align: middle;\n",
       "    }\n",
       "\n",
       "    .dataframe tbody tr th {\n",
       "        vertical-align: top;\n",
       "    }\n",
       "\n",
       "    .dataframe thead th {\n",
       "        text-align: right;\n",
       "    }\n",
       "</style>\n",
       "<table border=\"1\" class=\"dataframe\">\n",
       "  <thead>\n",
       "    <tr style=\"text-align: right;\">\n",
       "      <th></th>\n",
       "      <th>male</th>\n",
       "      <th>age</th>\n",
       "      <th>education</th>\n",
       "      <th>currentSmoker</th>\n",
       "      <th>cigsPerDay</th>\n",
       "      <th>BPMeds</th>\n",
       "      <th>prevalentStroke</th>\n",
       "      <th>prevalentHyp</th>\n",
       "      <th>diabetes</th>\n",
       "      <th>totChol</th>\n",
       "      <th>sysBP</th>\n",
       "      <th>diaBP</th>\n",
       "      <th>BMI</th>\n",
       "      <th>heartRate</th>\n",
       "      <th>glucose</th>\n",
       "      <th>TenYearCHD</th>\n",
       "    </tr>\n",
       "  </thead>\n",
       "  <tbody>\n",
       "    <tr>\n",
       "      <th>count</th>\n",
       "      <td>4238.000000</td>\n",
       "      <td>4238.000000</td>\n",
       "      <td>4133.000000</td>\n",
       "      <td>4238.000000</td>\n",
       "      <td>4209.000000</td>\n",
       "      <td>4185.000000</td>\n",
       "      <td>4238.000000</td>\n",
       "      <td>4238.000000</td>\n",
       "      <td>4238.000000</td>\n",
       "      <td>4188.000000</td>\n",
       "      <td>4238.000000</td>\n",
       "      <td>4238.000000</td>\n",
       "      <td>4219.000000</td>\n",
       "      <td>4237.000000</td>\n",
       "      <td>3850.000000</td>\n",
       "      <td>4238.000000</td>\n",
       "    </tr>\n",
       "    <tr>\n",
       "      <th>mean</th>\n",
       "      <td>0.429212</td>\n",
       "      <td>49.584946</td>\n",
       "      <td>1.978950</td>\n",
       "      <td>0.494101</td>\n",
       "      <td>9.003089</td>\n",
       "      <td>0.029630</td>\n",
       "      <td>0.005899</td>\n",
       "      <td>0.310524</td>\n",
       "      <td>0.025720</td>\n",
       "      <td>236.721585</td>\n",
       "      <td>132.352407</td>\n",
       "      <td>82.893464</td>\n",
       "      <td>25.802008</td>\n",
       "      <td>75.878924</td>\n",
       "      <td>81.966753</td>\n",
       "      <td>0.151958</td>\n",
       "    </tr>\n",
       "    <tr>\n",
       "      <th>std</th>\n",
       "      <td>0.495022</td>\n",
       "      <td>8.572160</td>\n",
       "      <td>1.019791</td>\n",
       "      <td>0.500024</td>\n",
       "      <td>11.920094</td>\n",
       "      <td>0.169584</td>\n",
       "      <td>0.076587</td>\n",
       "      <td>0.462763</td>\n",
       "      <td>0.158316</td>\n",
       "      <td>44.590334</td>\n",
       "      <td>22.038097</td>\n",
       "      <td>11.910850</td>\n",
       "      <td>4.080111</td>\n",
       "      <td>12.026596</td>\n",
       "      <td>23.959998</td>\n",
       "      <td>0.359023</td>\n",
       "    </tr>\n",
       "    <tr>\n",
       "      <th>min</th>\n",
       "      <td>0.000000</td>\n",
       "      <td>32.000000</td>\n",
       "      <td>1.000000</td>\n",
       "      <td>0.000000</td>\n",
       "      <td>0.000000</td>\n",
       "      <td>0.000000</td>\n",
       "      <td>0.000000</td>\n",
       "      <td>0.000000</td>\n",
       "      <td>0.000000</td>\n",
       "      <td>107.000000</td>\n",
       "      <td>83.500000</td>\n",
       "      <td>48.000000</td>\n",
       "      <td>15.540000</td>\n",
       "      <td>44.000000</td>\n",
       "      <td>40.000000</td>\n",
       "      <td>0.000000</td>\n",
       "    </tr>\n",
       "    <tr>\n",
       "      <th>25%</th>\n",
       "      <td>0.000000</td>\n",
       "      <td>42.000000</td>\n",
       "      <td>1.000000</td>\n",
       "      <td>0.000000</td>\n",
       "      <td>0.000000</td>\n",
       "      <td>0.000000</td>\n",
       "      <td>0.000000</td>\n",
       "      <td>0.000000</td>\n",
       "      <td>0.000000</td>\n",
       "      <td>206.000000</td>\n",
       "      <td>117.000000</td>\n",
       "      <td>75.000000</td>\n",
       "      <td>23.070000</td>\n",
       "      <td>68.000000</td>\n",
       "      <td>71.000000</td>\n",
       "      <td>0.000000</td>\n",
       "    </tr>\n",
       "    <tr>\n",
       "      <th>50%</th>\n",
       "      <td>0.000000</td>\n",
       "      <td>49.000000</td>\n",
       "      <td>2.000000</td>\n",
       "      <td>0.000000</td>\n",
       "      <td>0.000000</td>\n",
       "      <td>0.000000</td>\n",
       "      <td>0.000000</td>\n",
       "      <td>0.000000</td>\n",
       "      <td>0.000000</td>\n",
       "      <td>234.000000</td>\n",
       "      <td>128.000000</td>\n",
       "      <td>82.000000</td>\n",
       "      <td>25.400000</td>\n",
       "      <td>75.000000</td>\n",
       "      <td>78.000000</td>\n",
       "      <td>0.000000</td>\n",
       "    </tr>\n",
       "    <tr>\n",
       "      <th>75%</th>\n",
       "      <td>1.000000</td>\n",
       "      <td>56.000000</td>\n",
       "      <td>3.000000</td>\n",
       "      <td>1.000000</td>\n",
       "      <td>20.000000</td>\n",
       "      <td>0.000000</td>\n",
       "      <td>0.000000</td>\n",
       "      <td>1.000000</td>\n",
       "      <td>0.000000</td>\n",
       "      <td>263.000000</td>\n",
       "      <td>144.000000</td>\n",
       "      <td>89.875000</td>\n",
       "      <td>28.040000</td>\n",
       "      <td>83.000000</td>\n",
       "      <td>87.000000</td>\n",
       "      <td>0.000000</td>\n",
       "    </tr>\n",
       "    <tr>\n",
       "      <th>max</th>\n",
       "      <td>1.000000</td>\n",
       "      <td>70.000000</td>\n",
       "      <td>4.000000</td>\n",
       "      <td>1.000000</td>\n",
       "      <td>70.000000</td>\n",
       "      <td>1.000000</td>\n",
       "      <td>1.000000</td>\n",
       "      <td>1.000000</td>\n",
       "      <td>1.000000</td>\n",
       "      <td>696.000000</td>\n",
       "      <td>295.000000</td>\n",
       "      <td>142.500000</td>\n",
       "      <td>56.800000</td>\n",
       "      <td>143.000000</td>\n",
       "      <td>394.000000</td>\n",
       "      <td>1.000000</td>\n",
       "    </tr>\n",
       "  </tbody>\n",
       "</table>\n",
       "</div>"
      ],
      "text/plain": [
       "              male          age    education  currentSmoker   cigsPerDay  \\\n",
       "count  4238.000000  4238.000000  4133.000000    4238.000000  4209.000000   \n",
       "mean      0.429212    49.584946     1.978950       0.494101     9.003089   \n",
       "std       0.495022     8.572160     1.019791       0.500024    11.920094   \n",
       "min       0.000000    32.000000     1.000000       0.000000     0.000000   \n",
       "25%       0.000000    42.000000     1.000000       0.000000     0.000000   \n",
       "50%       0.000000    49.000000     2.000000       0.000000     0.000000   \n",
       "75%       1.000000    56.000000     3.000000       1.000000    20.000000   \n",
       "max       1.000000    70.000000     4.000000       1.000000    70.000000   \n",
       "\n",
       "            BPMeds  prevalentStroke  prevalentHyp     diabetes      totChol  \\\n",
       "count  4185.000000      4238.000000   4238.000000  4238.000000  4188.000000   \n",
       "mean      0.029630         0.005899      0.310524     0.025720   236.721585   \n",
       "std       0.169584         0.076587      0.462763     0.158316    44.590334   \n",
       "min       0.000000         0.000000      0.000000     0.000000   107.000000   \n",
       "25%       0.000000         0.000000      0.000000     0.000000   206.000000   \n",
       "50%       0.000000         0.000000      0.000000     0.000000   234.000000   \n",
       "75%       0.000000         0.000000      1.000000     0.000000   263.000000   \n",
       "max       1.000000         1.000000      1.000000     1.000000   696.000000   \n",
       "\n",
       "             sysBP        diaBP          BMI    heartRate      glucose  \\\n",
       "count  4238.000000  4238.000000  4219.000000  4237.000000  3850.000000   \n",
       "mean    132.352407    82.893464    25.802008    75.878924    81.966753   \n",
       "std      22.038097    11.910850     4.080111    12.026596    23.959998   \n",
       "min      83.500000    48.000000    15.540000    44.000000    40.000000   \n",
       "25%     117.000000    75.000000    23.070000    68.000000    71.000000   \n",
       "50%     128.000000    82.000000    25.400000    75.000000    78.000000   \n",
       "75%     144.000000    89.875000    28.040000    83.000000    87.000000   \n",
       "max     295.000000   142.500000    56.800000   143.000000   394.000000   \n",
       "\n",
       "        TenYearCHD  \n",
       "count  4238.000000  \n",
       "mean      0.151958  \n",
       "std       0.359023  \n",
       "min       0.000000  \n",
       "25%       0.000000  \n",
       "50%       0.000000  \n",
       "75%       0.000000  \n",
       "max       1.000000  "
      ]
     },
     "execution_count": 6,
     "metadata": {},
     "output_type": "execute_result"
    }
   ],
   "source": [
    "heart_df.describe() ## stats"
   ]
  },
  {
   "cell_type": "code",
   "execution_count": 7,
   "metadata": {},
   "outputs": [
    {
     "data": {
      "text/plain": [
       "male               0.000472\n",
       "age                0.009202\n",
       "education          0.000944\n",
       "currentSmoker      0.000472\n",
       "cigsPerDay         0.007787\n",
       "BPMeds             0.000472\n",
       "prevalentStroke    0.000472\n",
       "prevalentHyp       0.000472\n",
       "diabetes           0.000472\n",
       "totChol            0.058518\n",
       "sysBP              0.055215\n",
       "diaBP              0.034450\n",
       "BMI                0.321614\n",
       "heartRate          0.017225\n",
       "glucose            0.033742\n",
       "TenYearCHD         0.000472\n",
       "dtype: float64"
      ]
     },
     "execution_count": 7,
     "metadata": {},
     "output_type": "execute_result"
    }
   ],
   "source": [
    "heart_df.nunique()/heart_df.shape[0] ## unique values"
   ]
  },
  {
   "cell_type": "code",
   "execution_count": 8,
   "metadata": {},
   "outputs": [
    {
     "data": {
      "text/plain": [
       "male                 0\n",
       "age                  0\n",
       "education          105\n",
       "currentSmoker        0\n",
       "cigsPerDay          29\n",
       "BPMeds              53\n",
       "prevalentStroke      0\n",
       "prevalentHyp         0\n",
       "diabetes             0\n",
       "totChol             50\n",
       "sysBP                0\n",
       "diaBP                0\n",
       "BMI                 19\n",
       "heartRate            1\n",
       "glucose            388\n",
       "TenYearCHD           0\n",
       "dtype: int64"
      ]
     },
     "execution_count": 8,
     "metadata": {},
     "output_type": "execute_result"
    }
   ],
   "source": [
    "heart_df.isnull().sum() ## null values"
   ]
  },
  {
   "cell_type": "markdown",
   "metadata": {},
   "source": [
    "DATA CLEANING"
   ]
  },
  {
   "cell_type": "code",
   "execution_count": 9,
   "metadata": {},
   "outputs": [],
   "source": [
    "## Replacing null values with the mean value\n",
    "heart_df[\"education\"].fillna(heart_df[\"education\"].mean(),inplace=True)\n",
    "heart_df[\"cigsPerDay\"].fillna(heart_df[\"cigsPerDay\"].mean(),inplace=True)\n",
    "heart_df[\"BPMeds\"].fillna(heart_df[\"BPMeds\"].mean(),inplace=True)\n",
    "heart_df[\"totChol\"].fillna(heart_df[\"totChol\"].mean(),inplace=True)\n",
    "heart_df[\"BMI\"].fillna(heart_df[\"BMI\"].mean(),inplace=True)\n",
    "heart_df[\"heartRate\"].fillna(heart_df[\"heartRate\"].mean(),inplace=True)\n",
    "heart_df[\"glucose\"].fillna(heart_df[\"glucose\"].mean(),inplace=True)"
   ]
  },
  {
   "cell_type": "code",
   "execution_count": 10,
   "metadata": {},
   "outputs": [
    {
     "data": {
      "text/plain": [
       "male               0\n",
       "age                0\n",
       "education          0\n",
       "currentSmoker      0\n",
       "cigsPerDay         0\n",
       "BPMeds             0\n",
       "prevalentStroke    0\n",
       "prevalentHyp       0\n",
       "diabetes           0\n",
       "totChol            0\n",
       "sysBP              0\n",
       "diaBP              0\n",
       "BMI                0\n",
       "heartRate          0\n",
       "glucose            0\n",
       "TenYearCHD         0\n",
       "dtype: int64"
      ]
     },
     "execution_count": 10,
     "metadata": {},
     "output_type": "execute_result"
    }
   ],
   "source": [
    "## Rechecking for null values\n",
    "heart_df.isnull().sum()"
   ]
  },
  {
   "cell_type": "code",
   "execution_count": 11,
   "metadata": {},
   "outputs": [
    {
     "data": {
      "text/plain": [
       "0    3594\n",
       "1     644\n",
       "Name: TenYearCHD, dtype: int64"
      ]
     },
     "execution_count": 11,
     "metadata": {},
     "output_type": "execute_result"
    }
   ],
   "source": [
    "## CHD value counts\n",
    "heart_df.TenYearCHD.value_counts()"
   ]
  },
  {
   "cell_type": "markdown",
   "metadata": {},
   "source": [
    "SPLITTING DATA - TRAINING AND TESTING SETS"
   ]
  },
  {
   "cell_type": "code",
   "execution_count": 12,
   "metadata": {},
   "outputs": [],
   "source": [
    "## importing packages\n",
    "\n",
    "from sklearn.model_selection import train_test_split\n",
    "from sklearn.metrics import confusion_matrix , classification_report,accuracy_score\n",
    "from sklearn.metrics import roc_curve , auc\n",
    "from sklearn.linear_model import LogisticRegression\n",
    "from sklearn.preprocessing import StandardScaler"
   ]
  },
  {
   "cell_type": "code",
   "execution_count": 13,
   "metadata": {},
   "outputs": [
    {
     "name": "stdout",
     "output_type": "stream",
     "text": [
      "Columns in X : Index(['male', 'age', 'education', 'currentSmoker', 'cigsPerDay', 'BPMeds',\n",
      "       'prevalentStroke', 'prevalentHyp', 'diabetes', 'totChol', 'sysBP',\n",
      "       'diaBP', 'BMI', 'heartRate', 'glucose'],\n",
      "      dtype='object')\n",
      "y : 0       0\n",
      "1       0\n",
      "2       0\n",
      "3       1\n",
      "4       0\n",
      "       ..\n",
      "4233    1\n",
      "4234    0\n",
      "4235    0\n",
      "4236    0\n",
      "4237    0\n",
      "Name: TenYearCHD, Length: 4238, dtype: int64\n",
      "shape of X: (4238, 15)\n",
      "shape of y: 4238\n"
     ]
    }
   ],
   "source": [
    "## Defining variables X,y \n",
    "X= heart_df.drop(\"TenYearCHD\",axis=1)\n",
    "y=heart_df[\"TenYearCHD\"]\n",
    "print(\"Columns in X :\",X.columns)\n",
    "print(\"y :\",y)\n",
    "print(\"shape of X:\",X.shape)\n",
    "print(\"shape of y:\",y.shape[0])"
   ]
  },
  {
   "cell_type": "code",
   "execution_count": 14,
   "metadata": {},
   "outputs": [],
   "source": [
    "## Splitting data into training and test sets\n",
    "X_train, X_test, y_train, y_test = train_test_split(X, y, test_size = 0.25, random_state = 0)"
   ]
  },
  {
   "cell_type": "code",
   "execution_count": 15,
   "metadata": {},
   "outputs": [
    {
     "data": {
      "text/html": [
       "<div>\n",
       "<style scoped>\n",
       "    .dataframe tbody tr th:only-of-type {\n",
       "        vertical-align: middle;\n",
       "    }\n",
       "\n",
       "    .dataframe tbody tr th {\n",
       "        vertical-align: top;\n",
       "    }\n",
       "\n",
       "    .dataframe thead th {\n",
       "        text-align: right;\n",
       "    }\n",
       "</style>\n",
       "<table border=\"1\" class=\"dataframe\">\n",
       "  <thead>\n",
       "    <tr style=\"text-align: right;\">\n",
       "      <th></th>\n",
       "      <th>male</th>\n",
       "      <th>age</th>\n",
       "      <th>education</th>\n",
       "      <th>currentSmoker</th>\n",
       "      <th>cigsPerDay</th>\n",
       "      <th>BPMeds</th>\n",
       "      <th>prevalentStroke</th>\n",
       "      <th>prevalentHyp</th>\n",
       "      <th>diabetes</th>\n",
       "      <th>totChol</th>\n",
       "      <th>sysBP</th>\n",
       "      <th>diaBP</th>\n",
       "      <th>BMI</th>\n",
       "      <th>heartRate</th>\n",
       "      <th>glucose</th>\n",
       "    </tr>\n",
       "  </thead>\n",
       "  <tbody>\n",
       "    <tr>\n",
       "      <th>3748</th>\n",
       "      <td>0</td>\n",
       "      <td>60</td>\n",
       "      <td>1.0</td>\n",
       "      <td>0</td>\n",
       "      <td>0.0</td>\n",
       "      <td>0.0</td>\n",
       "      <td>0</td>\n",
       "      <td>0</td>\n",
       "      <td>0</td>\n",
       "      <td>275.0</td>\n",
       "      <td>134.0</td>\n",
       "      <td>74.0</td>\n",
       "      <td>19.91</td>\n",
       "      <td>66.0</td>\n",
       "      <td>85.0</td>\n",
       "    </tr>\n",
       "    <tr>\n",
       "      <th>1928</th>\n",
       "      <td>0</td>\n",
       "      <td>42</td>\n",
       "      <td>3.0</td>\n",
       "      <td>1</td>\n",
       "      <td>20.0</td>\n",
       "      <td>0.0</td>\n",
       "      <td>0</td>\n",
       "      <td>0</td>\n",
       "      <td>0</td>\n",
       "      <td>193.0</td>\n",
       "      <td>129.0</td>\n",
       "      <td>91.5</td>\n",
       "      <td>27.78</td>\n",
       "      <td>95.0</td>\n",
       "      <td>74.0</td>\n",
       "    </tr>\n",
       "    <tr>\n",
       "      <th>2058</th>\n",
       "      <td>1</td>\n",
       "      <td>60</td>\n",
       "      <td>2.0</td>\n",
       "      <td>1</td>\n",
       "      <td>20.0</td>\n",
       "      <td>0.0</td>\n",
       "      <td>0</td>\n",
       "      <td>0</td>\n",
       "      <td>0</td>\n",
       "      <td>305.0</td>\n",
       "      <td>112.5</td>\n",
       "      <td>75.0</td>\n",
       "      <td>22.70</td>\n",
       "      <td>75.0</td>\n",
       "      <td>98.0</td>\n",
       "    </tr>\n",
       "    <tr>\n",
       "      <th>2106</th>\n",
       "      <td>1</td>\n",
       "      <td>67</td>\n",
       "      <td>3.0</td>\n",
       "      <td>0</td>\n",
       "      <td>0.0</td>\n",
       "      <td>0.0</td>\n",
       "      <td>0</td>\n",
       "      <td>0</td>\n",
       "      <td>0</td>\n",
       "      <td>250.0</td>\n",
       "      <td>120.0</td>\n",
       "      <td>83.0</td>\n",
       "      <td>22.36</td>\n",
       "      <td>65.0</td>\n",
       "      <td>78.0</td>\n",
       "    </tr>\n",
       "    <tr>\n",
       "      <th>3103</th>\n",
       "      <td>0</td>\n",
       "      <td>51</td>\n",
       "      <td>1.0</td>\n",
       "      <td>0</td>\n",
       "      <td>0.0</td>\n",
       "      <td>0.0</td>\n",
       "      <td>0</td>\n",
       "      <td>0</td>\n",
       "      <td>0</td>\n",
       "      <td>236.0</td>\n",
       "      <td>115.0</td>\n",
       "      <td>71.0</td>\n",
       "      <td>23.48</td>\n",
       "      <td>80.0</td>\n",
       "      <td>84.0</td>\n",
       "    </tr>\n",
       "    <tr>\n",
       "      <th>...</th>\n",
       "      <td>...</td>\n",
       "      <td>...</td>\n",
       "      <td>...</td>\n",
       "      <td>...</td>\n",
       "      <td>...</td>\n",
       "      <td>...</td>\n",
       "      <td>...</td>\n",
       "      <td>...</td>\n",
       "      <td>...</td>\n",
       "      <td>...</td>\n",
       "      <td>...</td>\n",
       "      <td>...</td>\n",
       "      <td>...</td>\n",
       "      <td>...</td>\n",
       "      <td>...</td>\n",
       "    </tr>\n",
       "    <tr>\n",
       "      <th>1033</th>\n",
       "      <td>0</td>\n",
       "      <td>44</td>\n",
       "      <td>2.0</td>\n",
       "      <td>0</td>\n",
       "      <td>0.0</td>\n",
       "      <td>0.0</td>\n",
       "      <td>0</td>\n",
       "      <td>1</td>\n",
       "      <td>0</td>\n",
       "      <td>187.0</td>\n",
       "      <td>122.0</td>\n",
       "      <td>83.0</td>\n",
       "      <td>30.40</td>\n",
       "      <td>85.0</td>\n",
       "      <td>75.0</td>\n",
       "    </tr>\n",
       "    <tr>\n",
       "      <th>3264</th>\n",
       "      <td>0</td>\n",
       "      <td>51</td>\n",
       "      <td>1.0</td>\n",
       "      <td>1</td>\n",
       "      <td>2.0</td>\n",
       "      <td>0.0</td>\n",
       "      <td>0</td>\n",
       "      <td>0</td>\n",
       "      <td>0</td>\n",
       "      <td>261.0</td>\n",
       "      <td>127.0</td>\n",
       "      <td>81.0</td>\n",
       "      <td>20.24</td>\n",
       "      <td>75.0</td>\n",
       "      <td>96.0</td>\n",
       "    </tr>\n",
       "    <tr>\n",
       "      <th>1653</th>\n",
       "      <td>1</td>\n",
       "      <td>39</td>\n",
       "      <td>3.0</td>\n",
       "      <td>1</td>\n",
       "      <td>20.0</td>\n",
       "      <td>0.0</td>\n",
       "      <td>0</td>\n",
       "      <td>0</td>\n",
       "      <td>0</td>\n",
       "      <td>148.0</td>\n",
       "      <td>101.0</td>\n",
       "      <td>62.0</td>\n",
       "      <td>24.47</td>\n",
       "      <td>70.0</td>\n",
       "      <td>81.0</td>\n",
       "    </tr>\n",
       "    <tr>\n",
       "      <th>2607</th>\n",
       "      <td>0</td>\n",
       "      <td>57</td>\n",
       "      <td>1.0</td>\n",
       "      <td>0</td>\n",
       "      <td>0.0</td>\n",
       "      <td>0.0</td>\n",
       "      <td>0</td>\n",
       "      <td>1</td>\n",
       "      <td>0</td>\n",
       "      <td>382.0</td>\n",
       "      <td>133.0</td>\n",
       "      <td>77.0</td>\n",
       "      <td>24.27</td>\n",
       "      <td>75.0</td>\n",
       "      <td>81.0</td>\n",
       "    </tr>\n",
       "    <tr>\n",
       "      <th>2732</th>\n",
       "      <td>0</td>\n",
       "      <td>40</td>\n",
       "      <td>2.0</td>\n",
       "      <td>1</td>\n",
       "      <td>15.0</td>\n",
       "      <td>0.0</td>\n",
       "      <td>0</td>\n",
       "      <td>1</td>\n",
       "      <td>0</td>\n",
       "      <td>232.0</td>\n",
       "      <td>140.0</td>\n",
       "      <td>92.0</td>\n",
       "      <td>26.56</td>\n",
       "      <td>75.0</td>\n",
       "      <td>73.0</td>\n",
       "    </tr>\n",
       "  </tbody>\n",
       "</table>\n",
       "<p>3178 rows × 15 columns</p>\n",
       "</div>"
      ],
      "text/plain": [
       "      male  age  education  currentSmoker  cigsPerDay  BPMeds  \\\n",
       "3748     0   60        1.0              0         0.0     0.0   \n",
       "1928     0   42        3.0              1        20.0     0.0   \n",
       "2058     1   60        2.0              1        20.0     0.0   \n",
       "2106     1   67        3.0              0         0.0     0.0   \n",
       "3103     0   51        1.0              0         0.0     0.0   \n",
       "...    ...  ...        ...            ...         ...     ...   \n",
       "1033     0   44        2.0              0         0.0     0.0   \n",
       "3264     0   51        1.0              1         2.0     0.0   \n",
       "1653     1   39        3.0              1        20.0     0.0   \n",
       "2607     0   57        1.0              0         0.0     0.0   \n",
       "2732     0   40        2.0              1        15.0     0.0   \n",
       "\n",
       "      prevalentStroke  prevalentHyp  diabetes  totChol  sysBP  diaBP    BMI  \\\n",
       "3748                0             0         0    275.0  134.0   74.0  19.91   \n",
       "1928                0             0         0    193.0  129.0   91.5  27.78   \n",
       "2058                0             0         0    305.0  112.5   75.0  22.70   \n",
       "2106                0             0         0    250.0  120.0   83.0  22.36   \n",
       "3103                0             0         0    236.0  115.0   71.0  23.48   \n",
       "...               ...           ...       ...      ...    ...    ...    ...   \n",
       "1033                0             1         0    187.0  122.0   83.0  30.40   \n",
       "3264                0             0         0    261.0  127.0   81.0  20.24   \n",
       "1653                0             0         0    148.0  101.0   62.0  24.47   \n",
       "2607                0             1         0    382.0  133.0   77.0  24.27   \n",
       "2732                0             1         0    232.0  140.0   92.0  26.56   \n",
       "\n",
       "      heartRate  glucose  \n",
       "3748       66.0     85.0  \n",
       "1928       95.0     74.0  \n",
       "2058       75.0     98.0  \n",
       "2106       65.0     78.0  \n",
       "3103       80.0     84.0  \n",
       "...         ...      ...  \n",
       "1033       85.0     75.0  \n",
       "3264       75.0     96.0  \n",
       "1653       70.0     81.0  \n",
       "2607       75.0     81.0  \n",
       "2732       75.0     73.0  \n",
       "\n",
       "[3178 rows x 15 columns]"
      ]
     },
     "execution_count": 15,
     "metadata": {},
     "output_type": "execute_result"
    }
   ],
   "source": [
    "X_train"
   ]
  },
  {
   "cell_type": "code",
   "execution_count": 16,
   "metadata": {},
   "outputs": [
    {
     "data": {
      "text/plain": [
       "15"
      ]
     },
     "execution_count": 16,
     "metadata": {},
     "output_type": "execute_result"
    }
   ],
   "source": [
    "X_train.shape[1]"
   ]
  },
  {
   "cell_type": "code",
   "execution_count": 17,
   "metadata": {},
   "outputs": [],
   "source": [
    "#to specify bounds in differential privacy\n",
    "list_min1=[]\n",
    "list_max1=[]\n",
    "\n",
    "for i in range (0,X_train.shape[1]):\n",
    "    list_min1.append(min(X_train.iloc[:,i].values))\n",
    "    list_max1.append(max(X_train.iloc[:,i].values))"
   ]
  },
  {
   "cell_type": "code",
   "execution_count": 18,
   "metadata": {},
   "outputs": [],
   "source": [
    "list_min1=list(map(int,list_min1))"
   ]
  },
  {
   "cell_type": "code",
   "execution_count": 19,
   "metadata": {},
   "outputs": [],
   "source": [
    "list_max1=list(map(int,list_max1))"
   ]
  },
  {
   "cell_type": "code",
   "execution_count": 20,
   "metadata": {},
   "outputs": [
    {
     "data": {
      "text/plain": [
       "[0, 32, 1, 0, 0, 0, 0, 0, 0, 107, 83, 48, 15, 44, 40]"
      ]
     },
     "execution_count": 20,
     "metadata": {},
     "output_type": "execute_result"
    }
   ],
   "source": [
    "list_min1"
   ]
  },
  {
   "cell_type": "code",
   "execution_count": 21,
   "metadata": {},
   "outputs": [
    {
     "data": {
      "text/plain": [
       "[1, 70, 4, 1, 70, 1, 1, 1, 1, 600, 248, 142, 51, 143, 394]"
      ]
     },
     "execution_count": 21,
     "metadata": {},
     "output_type": "execute_result"
    }
   ],
   "source": [
    "list_max1"
   ]
  },
  {
   "cell_type": "markdown",
   "metadata": {},
   "source": [
    "MODEL TRAINING"
   ]
  },
  {
   "cell_type": "code",
   "execution_count": 22,
   "metadata": {},
   "outputs": [],
   "source": [
    "## Scaling the data \n",
    "sc= StandardScaler()\n",
    "X_train = sc.fit_transform(X_train)\n",
    "X_test=sc.transform(X_test)\n",
    "X_train=pd.DataFrame(X_train,columns=X.columns)\n",
    "X_test=pd.DataFrame(X_test,columns=X.columns)"
   ]
  },
  {
   "cell_type": "code",
   "execution_count": 23,
   "metadata": {},
   "outputs": [
    {
     "data": {
      "text/plain": [
       "LogisticRegression()"
      ]
     },
     "execution_count": 23,
     "metadata": {},
     "output_type": "execute_result"
    }
   ],
   "source": [
    "## Training the model using Logistic Regression\n",
    "model=LogisticRegression()\n",
    "model.fit(X_train,y_train)"
   ]
  },
  {
   "cell_type": "code",
   "execution_count": 24,
   "metadata": {},
   "outputs": [],
   "source": [
    "## Predicting data\n",
    "y_pred=model.predict(X_test)"
   ]
  },
  {
   "cell_type": "code",
   "execution_count": 25,
   "metadata": {},
   "outputs": [
    {
     "name": "stdout",
     "output_type": "stream",
     "text": [
      "              precision    recall  f1-score   support\n",
      "\n",
      "           0       0.85      0.99      0.91       890\n",
      "           1       0.65      0.06      0.12       170\n",
      "\n",
      "    accuracy                           0.84      1060\n",
      "   macro avg       0.75      0.53      0.52      1060\n",
      "weighted avg       0.82      0.84      0.79      1060\n",
      "\n"
     ]
    }
   ],
   "source": [
    "## classification report\n",
    "print(classification_report(y_test,y_pred))"
   ]
  },
  {
   "cell_type": "code",
   "execution_count": 26,
   "metadata": {},
   "outputs": [
    {
     "name": "stdout",
     "output_type": "stream",
     "text": [
      "Confusion matrix is \n",
      " [[884   6]\n",
      " [159  11]]\n"
     ]
    },
    {
     "data": {
      "text/plain": [
       "Text(42.0, 0.5, 'predicted label')"
      ]
     },
     "execution_count": 26,
     "metadata": {},
     "output_type": "execute_result"
    },
    {
     "data": {
      "image/png": "[encoded data removed]",
      "text/plain": [
       "<Figure size 504x504 with 2 Axes>"
      ]
     },
     "metadata": {
      "needs_background": "light"
     },
     "output_type": "display_data"
    }
   ],
   "source": [
    "## confusion matrix\n",
    "conf_mat=confusion_matrix(y_test,y_pred)\n",
    "print(\"Confusion matrix is \\n\",conf_mat)\n",
    "\n",
    "## plotting confusion matrix\n",
    "plt.figure(figsize=(7,7))\n",
    "plt.title(\"Logistic Regression CM\")\n",
    "sns.heatmap(conf_mat, square=True,cmap=\"BuPu\",annot=True,fmt='d')\n",
    "plt.xlabel('true label')\n",
    "plt.ylabel('predicted label')"
   ]
  },
  {
   "cell_type": "code",
   "execution_count": 27,
   "metadata": {},
   "outputs": [
    {
     "name": "stdout",
     "output_type": "stream",
     "text": [
      "accuracy score :  0.8443396226415094\n",
      "accuracy :  84 %\n"
     ]
    }
   ],
   "source": [
    "## accuracy score\n",
    "print(\"accuracy score : \",accuracy_score(y_test,y_pred))\n",
    "\n",
    "## percentage accurate\n",
    "print(\"accuracy : \", round(100*accuracy_score(y_test,y_pred)),\"%\")"
   ]
  },
  {
   "cell_type": "code",
   "execution_count": 28,
   "metadata": {},
   "outputs": [],
   "source": [
    "import sklearn as sk\n",
    "from sklearn.pipeline import Pipeline\n",
    "from diffprivlib import models"
   ]
  },
  {
   "cell_type": "code",
   "execution_count": 29,
   "metadata": {},
   "outputs": [],
   "source": [
    "pipe = Pipeline([\n",
    "    ('scaler', sk.preprocessing.StandardScaler()),\n",
    "    ('pca', sk.decomposition.PCA(2)),\n",
    "    ('lr', sk.linear_model.LogisticRegression(solver=\"lbfgs\"))\n",
    "])"
   ]
  },
  {
   "cell_type": "code",
   "execution_count": 30,
   "metadata": {},
   "outputs": [
    {
     "name": "stdout",
     "output_type": "stream",
     "text": [
      "Non-private test accuracy : 84.06%\n"
     ]
    }
   ],
   "source": [
    "#non-private test using pipeline \n",
    "pipe.fit(X_train, y_train)\n",
    "baseline = pipe.score(X_test, y_test)\n",
    "print(\"Non-private test accuracy : %.2f%%\" % (baseline * 100))"
   ]
  },
  {
   "cell_type": "code",
   "execution_count": 31,
   "metadata": {},
   "outputs": [
    {
     "data": {
      "text/html": [
       "<div>\n",
       "<style scoped>\n",
       "    .dataframe tbody tr th:only-of-type {\n",
       "        vertical-align: middle;\n",
       "    }\n",
       "\n",
       "    .dataframe tbody tr th {\n",
       "        vertical-align: top;\n",
       "    }\n",
       "\n",
       "    .dataframe thead th {\n",
       "        text-align: right;\n",
       "    }\n",
       "</style>\n",
       "<table border=\"1\" class=\"dataframe\">\n",
       "  <thead>\n",
       "    <tr style=\"text-align: right;\">\n",
       "      <th></th>\n",
       "      <th>male</th>\n",
       "      <th>age</th>\n",
       "      <th>education</th>\n",
       "      <th>currentSmoker</th>\n",
       "      <th>cigsPerDay</th>\n",
       "      <th>BPMeds</th>\n",
       "      <th>prevalentStroke</th>\n",
       "      <th>prevalentHyp</th>\n",
       "      <th>diabetes</th>\n",
       "      <th>totChol</th>\n",
       "      <th>sysBP</th>\n",
       "      <th>diaBP</th>\n",
       "      <th>BMI</th>\n",
       "      <th>heartRate</th>\n",
       "      <th>glucose</th>\n",
       "    </tr>\n",
       "  </thead>\n",
       "  <tbody>\n",
       "    <tr>\n",
       "      <th>0</th>\n",
       "      <td>-0.869368</td>\n",
       "      <td>1.217935</td>\n",
       "      <td>-0.969358</td>\n",
       "      <td>-1.006947</td>\n",
       "      <td>-0.763026</td>\n",
       "      <td>-0.170142</td>\n",
       "      <td>-0.085382</td>\n",
       "      <td>-0.666250</td>\n",
       "      <td>-0.159662</td>\n",
       "      <td>0.859531</td>\n",
       "      <td>0.086308</td>\n",
       "      <td>-0.734563</td>\n",
       "      <td>-1.446786</td>\n",
       "      <td>-0.815688</td>\n",
       "      <td>0.128600</td>\n",
       "    </tr>\n",
       "    <tr>\n",
       "      <th>1</th>\n",
       "      <td>-0.869368</td>\n",
       "      <td>-0.883050</td>\n",
       "      <td>1.000122</td>\n",
       "      <td>0.993101</td>\n",
       "      <td>0.909081</td>\n",
       "      <td>-0.170142</td>\n",
       "      <td>-0.085382</td>\n",
       "      <td>-0.666250</td>\n",
       "      <td>-0.159662</td>\n",
       "      <td>-1.012015</td>\n",
       "      <td>-0.142971</td>\n",
       "      <td>0.736970</td>\n",
       "      <td>0.488388</td>\n",
       "      <td>1.592170</td>\n",
       "      <td>-0.353837</td>\n",
       "    </tr>\n",
       "    <tr>\n",
       "      <th>2</th>\n",
       "      <td>1.150261</td>\n",
       "      <td>1.217935</td>\n",
       "      <td>0.015382</td>\n",
       "      <td>0.993101</td>\n",
       "      <td>0.909081</td>\n",
       "      <td>-0.170142</td>\n",
       "      <td>-0.085382</td>\n",
       "      <td>-0.666250</td>\n",
       "      <td>-0.159662</td>\n",
       "      <td>1.544243</td>\n",
       "      <td>-0.899589</td>\n",
       "      <td>-0.650475</td>\n",
       "      <td>-0.760746</td>\n",
       "      <td>-0.068422</td>\n",
       "      <td>0.698753</td>\n",
       "    </tr>\n",
       "    <tr>\n",
       "      <th>3</th>\n",
       "      <td>1.150261</td>\n",
       "      <td>2.034985</td>\n",
       "      <td>1.000122</td>\n",
       "      <td>-1.006947</td>\n",
       "      <td>-0.763026</td>\n",
       "      <td>-0.170142</td>\n",
       "      <td>-0.085382</td>\n",
       "      <td>-0.666250</td>\n",
       "      <td>-0.159662</td>\n",
       "      <td>0.288938</td>\n",
       "      <td>-0.555671</td>\n",
       "      <td>0.022226</td>\n",
       "      <td>-0.844349</td>\n",
       "      <td>-0.898717</td>\n",
       "      <td>-0.178406</td>\n",
       "    </tr>\n",
       "    <tr>\n",
       "      <th>4</th>\n",
       "      <td>-0.869368</td>\n",
       "      <td>0.167443</td>\n",
       "      <td>-0.969358</td>\n",
       "      <td>-1.006947</td>\n",
       "      <td>-0.763026</td>\n",
       "      <td>-0.170142</td>\n",
       "      <td>-0.085382</td>\n",
       "      <td>-0.666250</td>\n",
       "      <td>-0.159662</td>\n",
       "      <td>-0.030595</td>\n",
       "      <td>-0.784949</td>\n",
       "      <td>-0.986825</td>\n",
       "      <td>-0.568950</td>\n",
       "      <td>0.346726</td>\n",
       "      <td>0.084742</td>\n",
       "    </tr>\n",
       "    <tr>\n",
       "      <th>...</th>\n",
       "      <td>...</td>\n",
       "      <td>...</td>\n",
       "      <td>...</td>\n",
       "      <td>...</td>\n",
       "      <td>...</td>\n",
       "      <td>...</td>\n",
       "      <td>...</td>\n",
       "      <td>...</td>\n",
       "      <td>...</td>\n",
       "      <td>...</td>\n",
       "      <td>...</td>\n",
       "      <td>...</td>\n",
       "      <td>...</td>\n",
       "      <td>...</td>\n",
       "      <td>...</td>\n",
       "    </tr>\n",
       "    <tr>\n",
       "      <th>3173</th>\n",
       "      <td>-0.869368</td>\n",
       "      <td>-0.649607</td>\n",
       "      <td>0.015382</td>\n",
       "      <td>-1.006947</td>\n",
       "      <td>-0.763026</td>\n",
       "      <td>-0.170142</td>\n",
       "      <td>-0.085382</td>\n",
       "      <td>1.500938</td>\n",
       "      <td>-0.159662</td>\n",
       "      <td>-1.148958</td>\n",
       "      <td>-0.463960</td>\n",
       "      <td>0.022226</td>\n",
       "      <td>1.132626</td>\n",
       "      <td>0.761874</td>\n",
       "      <td>-0.309979</td>\n",
       "    </tr>\n",
       "    <tr>\n",
       "      <th>3174</th>\n",
       "      <td>-0.869368</td>\n",
       "      <td>0.167443</td>\n",
       "      <td>-0.969358</td>\n",
       "      <td>0.993101</td>\n",
       "      <td>-0.595815</td>\n",
       "      <td>-0.170142</td>\n",
       "      <td>-0.085382</td>\n",
       "      <td>-0.666250</td>\n",
       "      <td>-0.159662</td>\n",
       "      <td>0.539999</td>\n",
       "      <td>-0.234682</td>\n",
       "      <td>-0.145949</td>\n",
       "      <td>-1.365642</td>\n",
       "      <td>-0.068422</td>\n",
       "      <td>0.611037</td>\n",
       "    </tr>\n",
       "    <tr>\n",
       "      <th>3175</th>\n",
       "      <td>1.150261</td>\n",
       "      <td>-1.233214</td>\n",
       "      <td>1.000122</td>\n",
       "      <td>0.993101</td>\n",
       "      <td>0.909081</td>\n",
       "      <td>-0.170142</td>\n",
       "      <td>-0.085382</td>\n",
       "      <td>-0.666250</td>\n",
       "      <td>-0.159662</td>\n",
       "      <td>-2.039084</td>\n",
       "      <td>-1.426928</td>\n",
       "      <td>-1.743614</td>\n",
       "      <td>-0.325516</td>\n",
       "      <td>-0.483570</td>\n",
       "      <td>-0.046832</td>\n",
       "    </tr>\n",
       "    <tr>\n",
       "      <th>3176</th>\n",
       "      <td>-0.869368</td>\n",
       "      <td>0.867771</td>\n",
       "      <td>-0.969358</td>\n",
       "      <td>-1.006947</td>\n",
       "      <td>-0.763026</td>\n",
       "      <td>-0.170142</td>\n",
       "      <td>-0.085382</td>\n",
       "      <td>1.500938</td>\n",
       "      <td>-0.159662</td>\n",
       "      <td>3.301671</td>\n",
       "      <td>0.040452</td>\n",
       "      <td>-0.482300</td>\n",
       "      <td>-0.374695</td>\n",
       "      <td>-0.068422</td>\n",
       "      <td>-0.046832</td>\n",
       "    </tr>\n",
       "    <tr>\n",
       "      <th>3177</th>\n",
       "      <td>-0.869368</td>\n",
       "      <td>-1.116492</td>\n",
       "      <td>0.015382</td>\n",
       "      <td>0.993101</td>\n",
       "      <td>0.491054</td>\n",
       "      <td>-0.170142</td>\n",
       "      <td>-0.085382</td>\n",
       "      <td>1.500938</td>\n",
       "      <td>-0.159662</td>\n",
       "      <td>-0.121890</td>\n",
       "      <td>0.361441</td>\n",
       "      <td>0.779014</td>\n",
       "      <td>0.188399</td>\n",
       "      <td>-0.068422</td>\n",
       "      <td>-0.397695</td>\n",
       "    </tr>\n",
       "  </tbody>\n",
       "</table>\n",
       "<p>3178 rows × 15 columns</p>\n",
       "</div>"
      ],
      "text/plain": [
       "          male       age  education  currentSmoker  cigsPerDay    BPMeds  \\\n",
       "0    -0.869368  1.217935  -0.969358      -1.006947   -0.763026 -0.170142   \n",
       "1    -0.869368 -0.883050   1.000122       0.993101    0.909081 -0.170142   \n",
       "2     1.150261  1.217935   0.015382       0.993101    0.909081 -0.170142   \n",
       "3     1.150261  2.034985   1.000122      -1.006947   -0.763026 -0.170142   \n",
       "4    -0.869368  0.167443  -0.969358      -1.006947   -0.763026 -0.170142   \n",
       "...        ...       ...        ...            ...         ...       ...   \n",
       "3173 -0.869368 -0.649607   0.015382      -1.006947   -0.763026 -0.170142   \n",
       "3174 -0.869368  0.167443  -0.969358       0.993101   -0.595815 -0.170142   \n",
       "3175  1.150261 -1.233214   1.000122       0.993101    0.909081 -0.170142   \n",
       "3176 -0.869368  0.867771  -0.969358      -1.006947   -0.763026 -0.170142   \n",
       "3177 -0.869368 -1.116492   0.015382       0.993101    0.491054 -0.170142   \n",
       "\n",
       "      prevalentStroke  prevalentHyp  diabetes   totChol     sysBP     diaBP  \\\n",
       "0           -0.085382     -0.666250 -0.159662  0.859531  0.086308 -0.734563   \n",
       "1           -0.085382     -0.666250 -0.159662 -1.012015 -0.142971  0.736970   \n",
       "2           -0.085382     -0.666250 -0.159662  1.544243 -0.899589 -0.650475   \n",
       "3           -0.085382     -0.666250 -0.159662  0.288938 -0.555671  0.022226   \n",
       "4           -0.085382     -0.666250 -0.159662 -0.030595 -0.784949 -0.986825   \n",
       "...               ...           ...       ...       ...       ...       ...   \n",
       "3173        -0.085382      1.500938 -0.159662 -1.148958 -0.463960  0.022226   \n",
       "3174        -0.085382     -0.666250 -0.159662  0.539999 -0.234682 -0.145949   \n",
       "3175        -0.085382     -0.666250 -0.159662 -2.039084 -1.426928 -1.743614   \n",
       "3176        -0.085382      1.500938 -0.159662  3.301671  0.040452 -0.482300   \n",
       "3177        -0.085382      1.500938 -0.159662 -0.121890  0.361441  0.779014   \n",
       "\n",
       "           BMI  heartRate   glucose  \n",
       "0    -1.446786  -0.815688  0.128600  \n",
       "1     0.488388   1.592170 -0.353837  \n",
       "2    -0.760746  -0.068422  0.698753  \n",
       "3    -0.844349  -0.898717 -0.178406  \n",
       "4    -0.568950   0.346726  0.084742  \n",
       "...        ...        ...       ...  \n",
       "3173  1.132626   0.761874 -0.309979  \n",
       "3174 -1.365642  -0.068422  0.611037  \n",
       "3175 -0.325516  -0.483570 -0.046832  \n",
       "3176 -0.374695  -0.068422 -0.046832  \n",
       "3177  0.188399  -0.068422 -0.397695  \n",
       "\n",
       "[3178 rows x 15 columns]"
      ]
     },
     "execution_count": 31,
     "metadata": {},
     "output_type": "execute_result"
    }
   ],
   "source": [
    "X_train"
   ]
  },
  {
   "cell_type": "code",
   "execution_count": 32,
   "metadata": {},
   "outputs": [],
   "source": [
    "X=X_train.to_numpy()"
   ]
  },
  {
   "cell_type": "code",
   "execution_count": 33,
   "metadata": {},
   "outputs": [
    {
     "data": {
      "text/plain": [
       "array([[-0.86936822,  1.21793504, -0.96935783, ..., -1.44678609,\n",
       "        -0.81568787,  0.12859984],\n",
       "       [-0.86936822, -0.88304973,  1.00012206, ...,  0.48838803,\n",
       "         1.59216957, -0.35383715],\n",
       "       [ 1.15026059,  1.21793504,  0.01538212, ..., -0.76074597,\n",
       "        -0.06842177,  0.69875264],\n",
       "       ...,\n",
       "       [ 1.15026059, -1.23321386,  1.00012206, ..., -0.32551621,\n",
       "        -0.48356961, -0.04683179],\n",
       "       [-0.86936822,  0.86777091, -0.96935783, ..., -0.37469471,\n",
       "        -0.06842177, -0.04683179],\n",
       "       [-0.86936822, -1.11649249,  0.01538212, ...,  0.18839915,\n",
       "        -0.06842177, -0.39769505]])"
      ]
     },
     "execution_count": 33,
     "metadata": {},
     "output_type": "execute_result"
    }
   ],
   "source": [
    "X"
   ]
  },
  {
   "cell_type": "code",
   "execution_count": 34,
   "metadata": {},
   "outputs": [
    {
     "name": "stdout",
     "output_type": "stream",
     "text": [
      "3178\n",
      "13\n"
     ]
    }
   ],
   "source": [
    "from numpy import inf\n",
    "from numpy.linalg import norm\n",
    "maxnorm = norm(X,inf,axis=1)\n",
    "print(maxnorm.size)\n",
    "maxnorm=[int(i) for i in maxnorm]\n",
    "print(max(maxnorm))\n",
    "#print(min(maxnorm))"
   ]
  },
  {
   "cell_type": "code",
   "execution_count": 35,
   "metadata": {},
   "outputs": [],
   "source": [
    "X= heart_df.drop(\"TenYearCHD\",axis=1)\n",
    "y=heart_df[\"TenYearCHD\"]"
   ]
  },
  {
   "cell_type": "code",
   "execution_count": 36,
   "metadata": {},
   "outputs": [],
   "source": [
    "## Splitting data into training and test sets\n",
    "X_train, X_test, y_train, y_test = train_test_split(X, y, test_size = 0.25, random_state = 0)\n",
    "ytrain=y_train"
   ]
  },
  {
   "cell_type": "code",
   "execution_count": 37,
   "metadata": {},
   "outputs": [],
   "source": [
    "#private test using pipeline\n",
    "dp_pipe = Pipeline([\n",
    "    ('scaler', models.StandardScaler(epsilon=1,bounds=(list_min1,list_max1))),\n",
    "    ('pca', models.PCA(epsilon=1,data_norm=13, centered=True)),\n",
    "    ('lr', models.LogisticRegression(epsilon=1,data_norm=13))\n",
    "])"
   ]
  },
  {
   "cell_type": "code",
   "execution_count": 38,
   "metadata": {},
   "outputs": [
    {
     "name": "stdout",
     "output_type": "stream",
     "text": [
      "3748    0\n",
      "1928    0\n",
      "2058    1\n",
      "2106    1\n",
      "3103    0\n",
      "       ..\n",
      "1033    0\n",
      "3264    0\n",
      "1653    0\n",
      "2607    0\n",
      "2732    0\n",
      "Name: TenYearCHD, Length: 3178, dtype: int64\n",
      "3748    0\n",
      "1928    0\n",
      "2058    1\n",
      "2106    1\n",
      "3103    0\n",
      "       ..\n",
      "1033    0\n",
      "3264    0\n",
      "1653    0\n",
      "2607    0\n",
      "2732    0\n",
      "Name: TenYearCHD, Length: 3178, dtype: int64\n"
     ]
    }
   ],
   "source": [
    "#y_train.equals(ytrain)\n",
    "print(ytrain)\n",
    "print(y_train)"
   ]
  },
  {
   "cell_type": "code",
   "execution_count": 39,
   "metadata": {},
   "outputs": [
    {
     "name": "stdout",
     "output_type": "stream",
     "text": [
      "Differentially private pipeline test accuracy (epsilon=1): 67.55%\n"
     ]
    }
   ],
   "source": [
    "dp_pipe.fit(X_train, y_train)\n",
    "print(\"Differentially private pipeline test accuracy (epsilon=1): %.2f%%\" % (dp_pipe.score(X_test, y_test) * 100))"
   ]
  },
  {
   "cell_type": "code",
   "execution_count": 40,
   "metadata": {},
   "outputs": [
    {
     "data": {
      "text/plain": [
       "'epsilons = np.logspace(-2, 1.45, 10)\\npipe_accuracy = []\\n\\nfor epsilon in epsilons:\\n    _eps = epsilon / 3\\n    dp_pipe.set_params(scaler__epsilon=_eps, pca__epsilon=_eps, lr__epsilon=_eps)\\n    \\n    dp_pipe.fit(X_train, y_train)\\n    pipe_accuracy.append(dp_pipe.score(X_test, y_test))'"
      ]
     },
     "execution_count": 40,
     "metadata": {},
     "output_type": "execute_result"
    }
   ],
   "source": [
    "\"\"\"epsilons = np.logspace(-2, 1.45, 10)\n",
    "pipe_accuracy = []\n",
    "\n",
    "for epsilon in epsilons:\n",
    "    _eps = epsilon / 3\n",
    "    dp_pipe.set_params(scaler__epsilon=_eps, pca__epsilon=_eps, lr__epsilon=_eps)\n",
    "    \n",
    "    dp_pipe.fit(X_train, y_train)\n",
    "    pipe_accuracy.append(dp_pipe.score(X_test, y_test))\"\"\""
   ]
  },
  {
   "cell_type": "code",
   "execution_count": 41,
   "metadata": {},
   "outputs": [
    {
     "data": {
      "text/plain": [
       "'import pickle\\n\\npickle.dump((epsilons, baseline, pipe_accuracy), open(\"logisticReg_accuracy_trend.p\", \"wb\" ) )'"
      ]
     },
     "execution_count": 41,
     "metadata": {},
     "output_type": "execute_result"
    }
   ],
   "source": [
    "\"\"\"import pickle\n",
    "\n",
    "pickle.dump((epsilons, baseline, pipe_accuracy), open(\"logisticReg_accuracy_trend.p\", \"wb\" ) )\"\"\""
   ]
  },
  {
   "cell_type": "code",
   "execution_count": 42,
   "metadata": {},
   "outputs": [
    {
     "data": {
      "image/png": "[encoded data removed]",
      "text/plain": [
       "<Figure size 432x288 with 1 Axes>"
      ]
     },
     "metadata": {
      "needs_background": "light"
     },
     "output_type": "display_data"
    }
   ],
   "source": [
    "import matplotlib.pyplot as plt\n",
    "import pickle\n",
    "\n",
    "epsilons, baseline, pipe_accuracy = pickle.load(open(\"logisticReg_accuracy_trend.p\", \"rb\"))\n",
    "\n",
    "plt.semilogx(epsilons, pipe_accuracy, label=\"Differentially private pipeline\", zorder=10)\n",
    "plt.plot(epsilons, np.ones_like(epsilons) * baseline, dashes=[2,2], label=\"Non-private pipeline\", zorder=5)\n",
    "plt.title(\"Comparision between differentially private pipeline and non private pipeline models\")\n",
    "plt.xlabel(\"epsilon\")\n",
    "plt.ylabel(\"Accuracy\")\n",
    "plt.ylim(0, 1)\n",
    "plt.xlim(epsilons[0], epsilons[-1])\n",
    "plt.legend(loc=4)\n",
    "plt.show()"
   ]
  },
  {
   "cell_type": "markdown",
   "metadata": {},
   "source": [
    "Testing with new inputs"
   ]
  },
  {
   "cell_type": "code",
   "execution_count": 43,
   "metadata": {},
   "outputs": [],
   "source": [
    "#giving random outputs for each run"
   ]
  },
  {
   "cell_type": "code",
   "execution_count": 44,
   "metadata": {},
   "outputs": [
    {
     "name": "stdout",
     "output_type": "stream",
     "text": [
      "[[1, 39, 4.0, 0, 0.0, 0.0, 0, 0, 0, 195.0, 106.0, 70.0, 26.97, 80.0, 77.0]] [0]\n"
     ]
    }
   ],
   "source": [
    "new=[[1,39,4.0,0,0.0,0.0,0,0,0,195.0,106.0,70.0,26.97,80.0,77.0]]\n",
    "out=dp_pipe.predict(new)\n",
    "print(new,out)"
   ]
  },
  {
   "cell_type": "code",
   "execution_count": 45,
   "metadata": {},
   "outputs": [
    {
     "name": "stdout",
     "output_type": "stream",
     "text": [
      "[[0, 61, 3.0, 1, 30.0, 0.0, 0, 1, 0, 225.0, 150.0, 95.0, 28.58, 65.0, 103.0]] [1]\n"
     ]
    }
   ],
   "source": [
    "new=[[0,61,3.0,1,30.0,0.0,0,1,0,225.0,150.0,95.0,28.58,65.0,103.0]]\n",
    "out=dp_pipe.predict(new)\n",
    "print(new,out)"
   ]
  },
  {
   "cell_type": "code",
   "execution_count": 46,
   "metadata": {},
   "outputs": [
    {
     "name": "stdout",
     "output_type": "stream",
     "text": [
      "[[0, 59, 1.0, 0, 0.0, 0.0, 0, 1, 0, 209.0, 150.0, 85.0, 20.77, 90.0, 88.0]] [0]\n"
     ]
    }
   ],
   "source": [
    "new=[[0, 59, 1.0, 0, 0.0, 0.0, 0, 1, 0, 209.0, 150.0, 85.0, 20.77, 90.0, 88.0]]\n",
    "out=dp_pipe.predict(new)\n",
    "print(new,out)"
   ]
  },
  {
   "cell_type": "markdown",
   "metadata": {},
   "source": [
    "CONCLUSION"
   ]
  },
  {
   "cell_type": "markdown",
   "metadata": {},
   "source": [
    "\n",
    "Here privacy is calculated in terms of True positives and true negatives(accuracy of the model).The right predictions are dominant compared to wrong ones. so there is sufficient accuracy without compromising on privacy."
   ]
  }
 ],
 "metadata": {
  "colab": {
   "name": "CHD(MINI PROJECT)Raw file",
   "provenance": []
  },
  "interpreter": {
   "hash": "f263c69b7b20210c05d1b0493bbfd6fd2d3af69245bbb65946ed3444a83fa12c"
  },
  "kernelspec": {
   "display_name": "Python 3.8.8 ('base')",
   "language": "python",
   "name": "python3"
  },
  "language_info": {
   "codemirror_mode": {
    "name": "ipython",
    "version": 3
   },
   "file_extension": ".py",
   "mimetype": "text/x-python",
   "name": "python",
   "nbconvert_exporter": "python",
   "pygments_lexer": "ipython3",
   "version": "3.8.8"
  }
 },
 "nbformat": 4,
 "nbformat_minor": 0
}
